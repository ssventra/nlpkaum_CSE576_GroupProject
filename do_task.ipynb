{
 "cells": [
  {
   "cell_type": "markdown",
   "metadata": {},
   "source": [
    "# Using GPT-3 to decompose a task to relevant virtualhome instructions"
   ]
  },
  {
   "cell_type": "markdown",
   "metadata": {},
   "source": [
    "## Import Libraries"
   ]
  },
  {
   "cell_type": "code",
   "execution_count": 1,
   "metadata": {},
   "outputs": [],
   "source": [
    "import sys\n",
    "import re\n",
    "\n",
    "sys.path.append(\"../simulation\")\n",
    "\n",
    "from unity_simulator.comm_unity import UnityCommunication"
   ]
  },
  {
   "cell_type": "markdown",
   "metadata": {},
   "source": [
    "## Setup Open-AI and connect to Unity"
   ]
  },
  {
   "cell_type": "code",
   "execution_count": 2,
   "metadata": {},
   "outputs": [],
   "source": [
    "# connect to GPT-3\n",
    "import openai\n",
    "\n",
    "# get the API key from the environment variable\n",
    "import os\n",
    "\n",
    "openai.api_key = os.environ[\"OPENAI_API_KEY\"]"
   ]
  },
  {
   "cell_type": "code",
   "execution_count": 3,
   "metadata": {},
   "outputs": [
    {
     "name": "stdout",
     "output_type": "stream",
     "text": [
      "Unity is ready\n"
     ]
    }
   ],
   "source": [
    "# set up Unity\n",
    "comm = UnityCommunication()\n",
    "comm.reset()\n",
    "comm.add_character(\"Chars/Female1\")\n",
    "print(\"Unity is ready\")\n",
    "\n",
    "# load the actions from the file\n",
    "with open(\"actions.txt\", \"r\") as f:\n",
    "    actions = f.read().splitlines()"
   ]
  },
  {
   "cell_type": "markdown",
   "metadata": {},
   "source": [
    "## Define the prompt creators"
   ]
  },
  {
   "cell_type": "code",
   "execution_count": 4,
   "metadata": {},
   "outputs": [],
   "source": [
    "def get_rooms_and_items(comm):\n",
    "    \"\"\"\n",
    "    Function to get a list of the objects in their respective rooms\n",
    "    \"\"\"\n",
    "\n",
    "    # get environment graph from Unity\n",
    "    env_graph = comm.environment_graph()\n",
    "\n",
    "    # get a dict of rooms:objects from the environment graph\n",
    "    rooms_items = {}\n",
    "    present_class = None\n",
    "    for _, node in enumerate(env_graph[1][\"nodes\"]):\n",
    "        if \"ROO_\" in node[\"prefab_name\"]:\n",
    "            present_class = node[\"class_name\"]\n",
    "\n",
    "            # create an empty set for the room to be filled in later\n",
    "            rooms_items[present_class] = {\"idx\": node[\"id\"],  \"objects\": {}}\n",
    "        else:\n",
    "            if present_class is None:\n",
    "                continue\n",
    "            if rooms_items[present_class] is not None:\n",
    "                obj_class_name = node[\"class_name\"]\n",
    "                rooms_items[present_class][\"objects\"][obj_class_name] = node[\"id\"]\n",
    "\n",
    "    rooms = list(rooms_items.keys())\n",
    "    return rooms, rooms_items\n",
    "\n",
    "rooms, rooms_items = get_rooms_and_items(comm)"
   ]
  },
  {
   "cell_type": "code",
   "execution_count": 5,
   "metadata": {},
   "outputs": [],
   "source": [
    "def create_room_prompt(rooms, task):\n",
    "    return f\"\"\"Available rooms: {rooms}\n",
    "Task: Watch TV\n",
    "Relevant Room: livingroom\n",
    "\n",
    "Available rooms: {rooms}\n",
    "Task: Grab a plate\n",
    "Relevant Room: kitchen\n",
    "\n",
    "Available rooms: {rooms}\n",
    "Task: Wash clothes\n",
    "Relevant Room: bathroom\n",
    "\n",
    "Available rooms: {rooms}\n",
    "Task: {task}\n",
    "Relevant Room:\n",
    "\"\"\""
   ]
  },
  {
   "cell_type": "code",
   "execution_count": 6,
   "metadata": {},
   "outputs": [],
   "source": [
    "def create_execution_prompt(rooms_items, task, relevant_room):\n",
    "    objects_in_room = rooms_items[relevant_room][\"objects\"]\n",
    "    return f\"\"\"Available actions: {actions}\n",
    "\n",
    "Available objects: {rooms_items[\"livingroom\"][\"objects\"]}\n",
    "Relevant Room: livingroom\n",
    "Task: Watch TV\n",
    "Execution:\n",
    "<char0> [walk] <livingroom> (336)\n",
    "<char0> [walk] <tv> (427)\n",
    "<char0> [switchon] <tv> (427)\n",
    "\n",
    "Available objects: {rooms_items[\"kitchen\"][\"objects\"]}\n",
    "Relevant Room: kitchen\n",
    "Task: Grab a plate\n",
    "Execution:\n",
    "<char0> [walk] <kitchen> (207)\n",
    "<char0> [find] <plate> (315)\n",
    "<char0> [grab] <plate> (315)\n",
    "\n",
    "Available objects: {rooms_items[\"bathroom\"][\"objects\"]}\n",
    "Relevant Room: bathroom\n",
    "Task: Wash clothes\n",
    "Execution:\n",
    "<char0> [walk] <clothespile> (170)\n",
    "<char0> [grab] <clothespile> (170)\n",
    "<char0> [open] <washingmachine> (73)\n",
    "<char0> [putin] <clothespile> (179) <washingmachine> (73)\n",
    "<char0> [close] <washingmachine> (73)\n",
    "<char0> [switchon] <washingmachine> (73)\n",
    "\n",
    "Available objects: {objects_in_room}\n",
    "Relevant Room: {relevant_room}\n",
    "Task: {task}\n",
    "Execution:\n",
    "\"\"\""
   ]
  },
  {
   "cell_type": "markdown",
   "metadata": {},
   "source": [
    "## Get the script for a high level task"
   ]
  },
  {
   "cell_type": "code",
   "execution_count": 7,
   "metadata": {},
   "outputs": [
    {
     "name": "stdout",
     "output_type": "stream",
     "text": [
      "Relevant room: kitchen\n",
      "['<char0> [walk] <salmon> (328)', '<char0> [grab] <salmon> (328)', '<char0> [open] <microwave> (314)', '<char0> [putin] <salmon> (328) <microwave> (314)', '<char0> [close] <microwave> (314)', '<char0> [switchon] <microwave> (314)']\n"
     ]
    }
   ],
   "source": [
    "task = \"Microwave salmon\"\n",
    "\n",
    "def do_task(task, rooms_items):\n",
    "    room_response = openai.Completion.create(\n",
    "        model=\"text-davinci-002\",\n",
    "        prompt=create_room_prompt(rooms, task),\n",
    "        temperature=0.7,\n",
    "        max_tokens=256,\n",
    "        top_p=1,\n",
    "        frequency_penalty=0,\n",
    "        presence_penalty=0\n",
    "    )\n",
    "    relevant_room = room_response.choices[0].text.strip()\n",
    "    print(f\"Relevant room: {relevant_room}\")\n",
    "\n",
    "    response = openai.Completion.create(\n",
    "        model=\"text-davinci-002\",\n",
    "        prompt=create_execution_prompt(rooms_items, task, relevant_room),\n",
    "        temperature=0.7,\n",
    "        max_tokens=256,\n",
    "        top_p=1,\n",
    "        frequency_penalty=0,\n",
    "        presence_penalty=0\n",
    "    )\n",
    "    script = response.choices[0].text.strip().split('\\n')\n",
    "    return script\n",
    "\n",
    "script = do_task(task, rooms_items)\n",
    "print(script)"
   ]
  },
  {
   "cell_type": "markdown",
   "metadata": {},
   "source": [
    "## Render the script"
   ]
  },
  {
   "cell_type": "code",
   "execution_count": 8,
   "metadata": {},
   "outputs": [
    {
     "name": "stdout",
     "output_type": "stream",
     "text": [
      "Rendered the given script!\n"
     ]
    }
   ],
   "source": [
    "rendered, msg = comm.render_script(script, recording=True, find_solution=True)\n",
    "if rendered:\n",
    "    print(\"Rendered the given script!\")\n",
    "else:\n",
    "    print(\"Could not render the given script!\")\n",
    "    print(msg)"
   ]
  },
  {
   "cell_type": "code",
   "execution_count": 9,
   "metadata": {},
   "outputs": [
    {
     "name": "stdout",
     "output_type": "stream",
     "text": [
      "Relevant room: kitchen\n"
     ]
    },
    {
     "data": {
      "text/plain": [
       "['<char0> [walk] <kitchen> (207)',\n",
       " '<char0> [walk] <sink> (248)',\n",
       " '<char0> [grab] <plate> (315)',\n",
       " '<char0> [rinse] <plate> (315)',\n",
       " '<char0> [drop] <plate> (315)',\n",
       " '<char0> [scrub] <plate> (315)',\n",
       " '<char0> [rinse] <plate> (315)',\n",
       " '<char0> [drop] <plate> (315)',\n",
       " '<char0> [walk] <kitchentable> (231)',\n",
       " '<char0> [putback] <plate> (315) <kitchentable> (231)']"
      ]
     },
     "execution_count": 9,
     "metadata": {},
     "output_type": "execute_result"
    }
   ],
   "source": [
    "task = \"Wash plate in kitchen sink\"\n",
    "script = do_task(task, rooms_items)\n",
    "script"
   ]
  },
  {
   "cell_type": "code",
   "execution_count": 10,
   "metadata": {},
   "outputs": [
    {
     "data": {
      "text/plain": [
       "(False, \"Error parsing script: Requested value 'rinse' was not found.\")"
      ]
     },
     "execution_count": 10,
     "metadata": {},
     "output_type": "execute_result"
    }
   ],
   "source": [
    "comm.render_script(script, recording=True, find_solution=True)"
   ]
  },
  {
   "cell_type": "code",
   "execution_count": null,
   "metadata": {},
   "outputs": [],
   "source": []
  }
 ],
 "metadata": {
  "kernelspec": {
   "display_name": "Python 3 (ipykernel)",
   "language": "python",
   "name": "python3"
  },
  "language_info": {
   "codemirror_mode": {
    "name": "ipython",
    "version": 3
   },
   "file_extension": ".py",
   "mimetype": "text/x-python",
   "name": "python",
   "nbconvert_exporter": "python",
   "pygments_lexer": "ipython3",
   "version": "3.9.7"
  },
  "vscode": {
   "interpreter": {
    "hash": "36a733c867c5cddc55d2f9f81062f7ade8c72421ffcdbe7efc9aaf37e631defe"
   }
  }
 },
 "nbformat": 4,
 "nbformat_minor": 2
}
