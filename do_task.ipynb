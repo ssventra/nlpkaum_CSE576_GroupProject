{
 "cells": [
  {
   "cell_type": "markdown",
   "metadata": {},
   "source": [
    "# Using GPT-3 to decompose a task to relevant virtualhome instructions"
   ]
  },
  {
   "cell_type": "markdown",
   "metadata": {},
   "source": [
    "## Import Libraries"
   ]
  },
  {
   "cell_type": "code",
   "execution_count": 1,
   "metadata": {},
   "outputs": [],
   "source": [
    "import sys\n",
    "import re\n",
    "sys.path.append('../../simulation')\n",
    "from unity_simulator.comm_unity import UnityCommunication"
   ]
  },
  {
   "cell_type": "markdown",
   "metadata": {},
   "source": [
    "## Setup Open-AI and Connect to Unity"
   ]
  },
  {
   "cell_type": "code",
   "execution_count": 3,
   "metadata": {},
   "outputs": [],
   "source": [
    "# Connect to GPT-3\n",
    "import openai\n",
    "\n",
    "# Get the API key from the environment variable\n",
    "import os\n",
    "openai.api_key = os.environ[\"OPENAI_API_KEY\"]\n"
   ]
  },
  {
   "cell_type": "code",
   "execution_count": 90,
   "metadata": {},
   "outputs": [
    {
     "name": "stdout",
     "output_type": "stream",
     "text": [
      "Unity is ready\n"
     ]
    }
   ],
   "source": [
    "# Setting up Unity\n",
    "comm = UnityCommunication()\n",
    "comm.reset()\n",
    "comm.add_character('Chars/Female1')\n",
    "print('Unity is ready')\n",
    "\n",
    "# Load the actions from the file\n",
    "with open('actions.txt', 'r') as f:\n",
    "    actions = f.read().splitlines()"
   ]
  },
  {
   "cell_type": "markdown",
   "metadata": {},
   "source": [
    "## Define Prompt Creators"
   ]
  },
  {
   "cell_type": "code",
   "execution_count": 91,
   "metadata": {},
   "outputs": [],
   "source": [
    "def get_rooms_and_items(comm):\n",
    "    # Get environment graph from Unity\n",
    "    env_graph = comm.environment_graph()\n",
    "\n",
    "    # Get a dict of rooms:objects from the environment graph\n",
    "    rooms_items = {}\n",
    "    present_class = None\n",
    "    for idx, node in enumerate(env_graph[1]['nodes']):\n",
    "        if 'ROO_' in node['prefab_name']:\n",
    "            present_class = node['class_name']\n",
    "            # Create an empty set for the room\n",
    "            rooms_items[present_class] = {\"idx\": node['id'],  \"objects\": {}}\n",
    "        else:\n",
    "            if present_class is None:\n",
    "                continue\n",
    "            if rooms_items[present_class] is not None:\n",
    "                obj_class_name = node['class_name']\n",
    "                rooms_items[present_class][\"objects\"][obj_class_name] = node['id']\n",
    "\n",
    "    rooms = list(rooms_items.keys())\n",
    "    return rooms, rooms_items"
   ]
  },
  {
   "cell_type": "code",
   "execution_count": 92,
   "metadata": {},
   "outputs": [],
   "source": [
    "rooms, rooms_items = get_rooms_and_items(comm)"
   ]
  },
  {
   "cell_type": "code",
   "execution_count": 106,
   "metadata": {},
   "outputs": [],
   "source": [
    "def create_room_prompt(rooms, task):\n",
    "    prompt = \"\"\"\n",
    "    Available rooms: {rooms}\n",
    "    Task: Watch TV\n",
    "    Relevant Room: livingroom\n",
    "\n",
    "    Available rooms: {rooms}\n",
    "    Task: Grab a plate\n",
    "    Relevant Room: kitchen\n",
    "\n",
    "    Available rooms: {rooms}\n",
    "    Task: Wash clothes\n",
    "    Relevant Room: bathroom\n",
    "\n",
    "    Available rooms: {rooms}\n",
    "    Task: {task}\n",
    "    Relevant Room:\n",
    "    \"\"\".format(rooms=rooms, task=task)\n",
    "    return prompt\n",
    "    "
   ]
  },
  {
   "cell_type": "code",
   "execution_count": 131,
   "metadata": {},
   "outputs": [],
   "source": [
    "def create_execution_prompt(rooms_items, task, relevant_room):\n",
    "    objects_in_room = rooms_items[relevant_room][\"objects\"]\n",
    "    prompt2 = \"\"\"\n",
    "Available actions: {actions}\n",
    "\n",
    "Available objects: {objects_livingroom}\n",
    "Relevant Room: livingroom\n",
    "Task: Watch TV\n",
    "Execution:\n",
    "<char0> [walk] <livingroom> (336)\n",
    "<char0> [walk] <tv> (427)\n",
    "<char0> [switchon] <tv> (427)\n",
    "\n",
    "Available objects: {objects_kitchen}\n",
    "Relevant Room: kitchen\n",
    "Task: Grab a plate\n",
    "Execution:\n",
    "<char0> [walk] <kitchen> (207)\n",
    "<char0> [find] <plate> (315)\n",
    "<char0> [grab] <plate> (315)\n",
    "\n",
    "Available objects: {objects_bathroom}\n",
    "Relevant Room: bathroom\n",
    "Task: Wash clothes\n",
    "Execution:\n",
    "<char0> [walk] <clothespile> (170)\n",
    "<char0> [grab] <clothespile> (170)\n",
    "<char0> [open] <washingmachine> (73)\n",
    "<char0> [putin] <clothespile> (179) <washingmachine> (73)\n",
    "<char0> [close] <washingmachine> (73)\n",
    "<char0> [switchon] <washingmachine> (73)\n",
    "\n",
    "Available objects: {objects2}\n",
    "Relevant Room: {relevant_room}\n",
    "Task: {task}\n",
    "Execution:\n",
    "\"\"\".format( \n",
    "        actions=actions,\n",
    "        objects_livingroom=rooms_items[\"livingroom\"][\"objects\"], \n",
    "        objects_kitchen=rooms_items[\"kitchen\"][\"objects\"], \n",
    "        objects_bathroom=rooms_items[\"bathroom\"][\"objects\"],\n",
    "        objects2=objects_in_room, \n",
    "        relevant_room=relevant_room,\n",
    "        task=task\n",
    "    )\n",
    "    return prompt2"
   ]
  },
  {
   "cell_type": "markdown",
   "metadata": {},
   "source": [
    "## Get the script for a high level task"
   ]
  },
  {
   "cell_type": "code",
   "execution_count": 132,
   "metadata": {},
   "outputs": [
    {
     "name": "stdout",
     "output_type": "stream",
     "text": [
      "Relevant room:  kitchen\n"
     ]
    }
   ],
   "source": [
    "task = \"Microwave salmon\"\n",
    "\n",
    "def do_task(task, rooms_items):\n",
    "    room_response = openai.Completion.create(\n",
    "        model=\"text-davinci-002\",\n",
    "        prompt=create_room_prompt(rooms, task),\n",
    "        temperature=0.7,\n",
    "        max_tokens=256,\n",
    "        top_p=1,\n",
    "        frequency_penalty=0,\n",
    "        presence_penalty=0\n",
    "    )\n",
    "    relevant_room = room_response.choices[0].text.strip()\n",
    "    print(\"Relevant room: \", relevant_room)\n",
    "\n",
    "    response = openai.Completion.create(\n",
    "        model=\"text-davinci-002\",\n",
    "        prompt=create_execution_prompt(rooms_items, task, relevant_room),\n",
    "        temperature=0.7,\n",
    "        max_tokens=256,\n",
    "        top_p=1,\n",
    "        frequency_penalty=0,\n",
    "        presence_penalty=0\n",
    "    )\n",
    "    script = response.choices[0].text.strip().split('\\n')\n",
    "    return script\n",
    "\n",
    "script = do_task(task, rooms_items)"
   ]
  },
  {
   "cell_type": "code",
   "execution_count": 133,
   "metadata": {},
   "outputs": [
    {
     "data": {
      "text/plain": [
       "['<char0> [walk] <kitchen> (207)',\n",
       " '<char0> [find] <salmon> (328)',\n",
       " '<char0> [grab] <salmon> (328)',\n",
       " '<char0> [open] <microwave> (314)',\n",
       " '<char0> [putin] <salmon> (328) <microwave> (314)',\n",
       " '<char0> [close] <microwave> (314)',\n",
       " '<char0> [switchon] <microwave> (314)']"
      ]
     },
     "execution_count": 133,
     "metadata": {},
     "output_type": "execute_result"
    }
   ],
   "source": [
    "script"
   ]
  },
  {
   "cell_type": "markdown",
   "metadata": {},
   "source": [
    "## Render the script"
   ]
  },
  {
   "cell_type": "code",
   "execution_count": 134,
   "metadata": {},
   "outputs": [
    {
     "data": {
      "text/plain": [
       "(True, {'0': {'message': 'Success'}})"
      ]
     },
     "execution_count": 134,
     "metadata": {},
     "output_type": "execute_result"
    }
   ],
   "source": [
    "comm.render_script(script, recording=True, find_solution=True)"
   ]
  }
 ],
 "metadata": {
  "kernelspec": {
   "display_name": "Python 3.9.7 ('yolor')",
   "language": "python",
   "name": "python3"
  },
  "language_info": {
   "codemirror_mode": {
    "name": "ipython",
    "version": 3
   },
   "file_extension": ".py",
   "mimetype": "text/x-python",
   "name": "python",
   "nbconvert_exporter": "python",
   "pygments_lexer": "ipython3",
   "version": "3.9.7"
  },
  "orig_nbformat": 4,
  "vscode": {
   "interpreter": {
    "hash": "36a733c867c5cddc55d2f9f81062f7ade8c72421ffcdbe7efc9aaf37e631defe"
   }
  }
 },
 "nbformat": 4,
 "nbformat_minor": 2
}
